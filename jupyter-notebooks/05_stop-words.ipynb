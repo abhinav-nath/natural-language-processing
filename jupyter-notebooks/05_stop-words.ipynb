{
 "cells": [
  {
   "cell_type": "markdown",
   "id": "491738b9",
   "metadata": {},
   "source": [
    "# Stop Words\n",
    "Words like \"a\" and \"the\" appear so frequently that they don't require tagging as thoroughly as nouns, verbs and modifiers. We call these *stop words*, and they can be filtered from the text to be processed. spaCy holds a built-in list of some 305 English stop words."
   ]
  },
  {
   "cell_type": "code",
   "execution_count": 1,
   "id": "940e8069",
   "metadata": {},
   "outputs": [],
   "source": [
    "import spacy\n",
    "nlp = spacy.load('en_core_web_sm')"
   ]
  },
  {
   "cell_type": "code",
   "execution_count": 2,
   "id": "3c1791c6",
   "metadata": {},
   "outputs": [
    {
     "name": "stdout",
     "output_type": "stream",
     "text": [
      "{'still', 'though', 'may', 'be', 'much', 'over', '’re', 'put', 'thru', 'herein', 'this', 'same', 'empty', '‘m', 'their', 'someone', 'sixty', 'enough', 'ours', 'it', 'might', '‘re', 'towards', '’ve', 'together', 'me', 'beforehand', 'throughout', 'besides', 'before', 'until', 'with', 'three', 'were', 'per', 'namely', 'made', 'whence', 'into', 'nor', '‘ll', 'some', 'very', 'when', 'whereas', 'then', 'however', 'both', 'or', 'n‘t', 'next', 'wherever', \"n't\", 'these', 'across', 'ever', 'whereby', 'seems', 'sometimes', 'being', 'yours', 'nobody', 'a', 'less', 'would', 'more', 'does', 'do', 'yourselves', 'onto', 'well', 'not', 'cannot', 'else', 'amount', 'doing', 'just', '’d', 'take', 'others', 'about', 'due', '‘s', 'us', 'every', 'really', 'wherein', 'my', 'thus', 'alone', 'you', 'last', 'via', 'such', '’m', 'she', 'done', 'anyhow', 'whether', 'latter', 'quite', 'because', 'anyone', 'than', 'himself', 'through', 'under', 'never', 'who', 'already', 'perhaps', 'hereupon', 'latterly', 'almost', 'serious', 'above', 'but', 'whereupon', 'them', 'whose', 'her', 'what', 'used', 'hundred', 'him', 'is', 'seemed', 'also', 'see', 'hence', 'whom', 'herself', 'nine', 'why', 'rather', 'ca', 'at', 'themselves', 'no', 'please', 'except', 'get', 'somehow', 'becomes', 'two', 'five', 'moreover', 'anyway', 'toward', 'show', '‘d', 'none', 'whereafter', 'therefore', 'once', 'there', 'further', 'those', 'any', 'off', 'everywhere', 'few', 'hereby', 'after', 'eight', '‘ve', 'keep', 'anywhere', 'against', 'eleven', 'everyone', 'mine', 'otherwise', 'go', 'if', 'even', 'several', 'whoever', 'he', 'nevertheless', 'fifteen', 'various', 'from', 'among', 'many', 'can', 'whither', 'always', 'either', 'make', 'became', 'afterwards', '’ll', 'yet', 'down', 'your', 'around', 'itself', 'six', 'own', 're', 'by', 'name', 'they', 'somewhere', 'only', 'whatever', 'that', 'seem', 'hereafter', 'therein', 'thereafter', 'another', 'between', 'meanwhile', 'thereupon', 'how', 'out', 'below', 'least', 'since', 'where', 'which', 'ourselves', 'will', 'third', 'although', 'forty', 'become', 'we', 'formerly', 'becoming', 'have', \"'ve\", 'beside', 'without', 'here', '’s', 'an', 'one', 'most', 'call', 'to', 'so', 'for', 'first', 'our', 'now', 'neither', 'hers', 'seeming', 'twelve', 'indeed', 'back', \"'s\", 'in', 'sometime', \"'ll\", 'something', 'n’t', 'twenty', 'noone', 'was', 'give', 'are', 'front', 'its', \"'m\", 'am', 'been', 'along', 'should', 'other', 'former', 'while', 'elsewhere', 'part', 'within', 'ten', 'move', 'must', 'mostly', 'thereby', \"'re\", 'myself', 'on', 'using', 'during', \"'d\", 'behind', 'say', 'fifty', 'upon', 'unless', 'whole', 'as', 'and', 'the', 'whenever', 'had', 'top', 'anything', 'yourself', 'beyond', 'full', 'bottom', 'did', 'regarding', 'of', 'nothing', 'again', 'thence', 'too', 'everything', 'side', 'his', 'all', 'i', 'amongst', 'nowhere', 'up', 'each', 'has', 'could', 'often', 'four'}\n"
     ]
    }
   ],
   "source": [
    "# Print the set of spaCy's default stop words (remember that sets are unordered):\n",
    "print(nlp.Defaults.stop_words)"
   ]
  },
  {
   "cell_type": "code",
   "execution_count": 3,
   "id": "ac4404c7",
   "metadata": {},
   "outputs": [
    {
     "data": {
      "text/plain": [
       "326"
      ]
     },
     "execution_count": 3,
     "metadata": {},
     "output_type": "execute_result"
    }
   ],
   "source": [
    "len(nlp.Defaults.stop_words)"
   ]
  },
  {
   "cell_type": "markdown",
   "id": "cdf0c0ec",
   "metadata": {},
   "source": [
    "## To see if a word is a stop word"
   ]
  },
  {
   "cell_type": "code",
   "execution_count": 4,
   "id": "c4c79698",
   "metadata": {},
   "outputs": [
    {
     "data": {
      "text/plain": [
       "True"
      ]
     },
     "execution_count": 4,
     "metadata": {},
     "output_type": "execute_result"
    }
   ],
   "source": [
    "nlp.vocab['myself'].is_stop"
   ]
  },
  {
   "cell_type": "code",
   "execution_count": 5,
   "id": "d1fdd3e4",
   "metadata": {},
   "outputs": [
    {
     "data": {
      "text/plain": [
       "False"
      ]
     },
     "execution_count": 5,
     "metadata": {},
     "output_type": "execute_result"
    }
   ],
   "source": [
    "nlp.vocab['mystery'].is_stop"
   ]
  },
  {
   "cell_type": "markdown",
   "id": "462f5bef",
   "metadata": {},
   "source": [
    "## To add a stop word\n",
    "There may be times when you wish to add a stop word to the default set. Perhaps you decide that `'btw'` (common shorthand for \"by the way\") should be considered a stop word."
   ]
  },
  {
   "cell_type": "code",
   "execution_count": 6,
   "id": "2c8ad903",
   "metadata": {},
   "outputs": [],
   "source": [
    "# Add the word to the set of stop words. Use lowercase!\n",
    "nlp.Defaults.stop_words.add('btw')\n",
    "\n",
    "# Set the stop_word tag on the lexeme\n",
    "nlp.vocab['btw'].is_stop = True"
   ]
  },
  {
   "cell_type": "code",
   "execution_count": 7,
   "id": "ed141557",
   "metadata": {},
   "outputs": [
    {
     "data": {
      "text/plain": [
       "327"
      ]
     },
     "execution_count": 7,
     "metadata": {},
     "output_type": "execute_result"
    }
   ],
   "source": [
    "len(nlp.Defaults.stop_words)"
   ]
  },
  {
   "cell_type": "code",
   "execution_count": 8,
   "id": "5fa2a6e2",
   "metadata": {},
   "outputs": [
    {
     "data": {
      "text/plain": [
       "True"
      ]
     },
     "execution_count": 8,
     "metadata": {},
     "output_type": "execute_result"
    }
   ],
   "source": [
    "nlp.vocab['btw'].is_stop"
   ]
  },
  {
   "cell_type": "markdown",
   "id": "b25e121f",
   "metadata": {},
   "source": [
    "<font color=green>When adding stop words, always use lowercase. Lexemes are converted to lowercase before being added to **vocab**.</font>"
   ]
  },
  {
   "cell_type": "markdown",
   "id": "8eabd533",
   "metadata": {},
   "source": [
    "## To remove a stop word\n",
    "Alternatively, you may decide that `'beyond'` should not be considered a stop word."
   ]
  },
  {
   "cell_type": "code",
   "execution_count": 9,
   "id": "95353755",
   "metadata": {},
   "outputs": [],
   "source": [
    "# Remove the word from the set of stop words\n",
    "nlp.Defaults.stop_words.remove('beyond')\n",
    "\n",
    "# Remove the stop_word tag from the lexeme\n",
    "nlp.vocab['beyond'].is_stop = False"
   ]
  },
  {
   "cell_type": "code",
   "execution_count": 10,
   "id": "6c5cc048",
   "metadata": {},
   "outputs": [
    {
     "data": {
      "text/plain": [
       "326"
      ]
     },
     "execution_count": 10,
     "metadata": {},
     "output_type": "execute_result"
    }
   ],
   "source": [
    "len(nlp.Defaults.stop_words)"
   ]
  },
  {
   "cell_type": "code",
   "execution_count": 11,
   "id": "f37d3cce",
   "metadata": {},
   "outputs": [
    {
     "data": {
      "text/plain": [
       "False"
      ]
     },
     "execution_count": 11,
     "metadata": {},
     "output_type": "execute_result"
    }
   ],
   "source": [
    "nlp.vocab['beyond'].is_stop"
   ]
  }
 ],
 "metadata": {
  "kernelspec": {
   "display_name": "Python 3 (ipykernel)",
   "language": "python",
   "name": "python3"
  },
  "language_info": {
   "codemirror_mode": {
    "name": "ipython",
    "version": 3
   },
   "file_extension": ".py",
   "mimetype": "text/x-python",
   "name": "python",
   "nbconvert_exporter": "python",
   "pygments_lexer": "ipython3",
   "version": "3.11.0"
  }
 },
 "nbformat": 4,
 "nbformat_minor": 5
}
